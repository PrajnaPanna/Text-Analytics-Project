{
  "nbformat": 4,
  "nbformat_minor": 0,
  "metadata": {
    "colab": {
      "name": "Sentiment analysis using movie reviews.ipynb",
      "provenance": [],
      "collapsed_sections": [],
      "toc_visible": true
    },
    "kernelspec": {
      "name": "python3",
      "display_name": "Python 3"
    }
  },
  "cells": [
    {
      "cell_type": "markdown",
      "metadata": {
        "id": "yZx8PG6eb3k8"
      },
      "source": [
        "# **10: Text Analytics**\r\n",
        "\r\n",
        "\r\n",
        " "
      ]
    },
    {
      "cell_type": "markdown",
      "metadata": {
        "id": "khNKF6WxBAPp"
      },
      "source": [
        "##**_10.2 Sentiment Classification_**\r\n"
      ]
    },
    {
      "cell_type": "markdown",
      "metadata": {
        "id": "1lcho3SEittW"
      },
      "source": [
        "### ***10.2.1 Loading the dataset***\r\n"
      ]
    },
    {
      "cell_type": "code",
      "metadata": {
        "colab": {
          "base_uri": "https://localhost:8080/",
          "height": 204
        },
        "id": "q5o1V_CAbvlb",
        "outputId": "4f93539a-2c1b-45d2-d575-a3b918d8dc76"
      },
      "source": [
        "import pandas as pd\r\n",
        "import numpy as np\r\n",
        "import warnings\r\n",
        "warnings.filterwarnings('ignore')\r\n",
        "train_ds = pd.read_csv( \"/content/drive/MyDrive/Data/sentiment_train\", delimiter=\"\\t\" )\r\n",
        "\r\n",
        "train_ds.head( 5 )\r\n"
      ],
      "execution_count": 1,
      "outputs": [
        {
          "output_type": "execute_result",
          "data": {
            "text/html": [
              "<div>\n",
              "<style scoped>\n",
              "    .dataframe tbody tr th:only-of-type {\n",
              "        vertical-align: middle;\n",
              "    }\n",
              "\n",
              "    .dataframe tbody tr th {\n",
              "        vertical-align: top;\n",
              "    }\n",
              "\n",
              "    .dataframe thead th {\n",
              "        text-align: right;\n",
              "    }\n",
              "</style>\n",
              "<table border=\"1\" class=\"dataframe\">\n",
              "  <thead>\n",
              "    <tr style=\"text-align: right;\">\n",
              "      <th></th>\n",
              "      <th>sentiment</th>\n",
              "      <th>text</th>\n",
              "    </tr>\n",
              "  </thead>\n",
              "  <tbody>\n",
              "    <tr>\n",
              "      <th>0</th>\n",
              "      <td>1</td>\n",
              "      <td>The Da Vinci Code book is just awesome.</td>\n",
              "    </tr>\n",
              "    <tr>\n",
              "      <th>1</th>\n",
              "      <td>1</td>\n",
              "      <td>this was the first clive cussler i've ever rea...</td>\n",
              "    </tr>\n",
              "    <tr>\n",
              "      <th>2</th>\n",
              "      <td>1</td>\n",
              "      <td>i liked the Da Vinci Code a lot.</td>\n",
              "    </tr>\n",
              "    <tr>\n",
              "      <th>3</th>\n",
              "      <td>1</td>\n",
              "      <td>i liked the Da Vinci Code a lot.</td>\n",
              "    </tr>\n",
              "    <tr>\n",
              "      <th>4</th>\n",
              "      <td>1</td>\n",
              "      <td>I liked the Da Vinci Code but it ultimatly did...</td>\n",
              "    </tr>\n",
              "  </tbody>\n",
              "</table>\n",
              "</div>"
            ],
            "text/plain": [
              "   sentiment                                               text\n",
              "0          1            The Da Vinci Code book is just awesome.\n",
              "1          1  this was the first clive cussler i've ever rea...\n",
              "2          1                   i liked the Da Vinci Code a lot.\n",
              "3          1                   i liked the Da Vinci Code a lot.\n",
              "4          1  I liked the Da Vinci Code but it ultimatly did..."
            ]
          },
          "metadata": {
            "tags": []
          },
          "execution_count": 1
        }
      ]
    },
    {
      "cell_type": "code",
      "metadata": {
        "colab": {
          "base_uri": "https://localhost:8080/",
          "height": 204
        },
        "id": "pZpXlbSUe4eg",
        "outputId": "9ce0743c-af53-4639-c30a-96d0396e1e53"
      },
      "source": [
        "# to increase the width of the text col\r\n",
        "pd.set_option('max_colwidth', 800)\r\n",
        "train_ds[train_ds.sentiment == 1][0:5]"
      ],
      "execution_count": 2,
      "outputs": [
        {
          "output_type": "execute_result",
          "data": {
            "text/html": [
              "<div>\n",
              "<style scoped>\n",
              "    .dataframe tbody tr th:only-of-type {\n",
              "        vertical-align: middle;\n",
              "    }\n",
              "\n",
              "    .dataframe tbody tr th {\n",
              "        vertical-align: top;\n",
              "    }\n",
              "\n",
              "    .dataframe thead th {\n",
              "        text-align: right;\n",
              "    }\n",
              "</style>\n",
              "<table border=\"1\" class=\"dataframe\">\n",
              "  <thead>\n",
              "    <tr style=\"text-align: right;\">\n",
              "      <th></th>\n",
              "      <th>sentiment</th>\n",
              "      <th>text</th>\n",
              "    </tr>\n",
              "  </thead>\n",
              "  <tbody>\n",
              "    <tr>\n",
              "      <th>0</th>\n",
              "      <td>1</td>\n",
              "      <td>The Da Vinci Code book is just awesome.</td>\n",
              "    </tr>\n",
              "    <tr>\n",
              "      <th>1</th>\n",
              "      <td>1</td>\n",
              "      <td>this was the first clive cussler i've ever read, but even books like Relic, and Da Vinci code were more plausible than this.</td>\n",
              "    </tr>\n",
              "    <tr>\n",
              "      <th>2</th>\n",
              "      <td>1</td>\n",
              "      <td>i liked the Da Vinci Code a lot.</td>\n",
              "    </tr>\n",
              "    <tr>\n",
              "      <th>3</th>\n",
              "      <td>1</td>\n",
              "      <td>i liked the Da Vinci Code a lot.</td>\n",
              "    </tr>\n",
              "    <tr>\n",
              "      <th>4</th>\n",
              "      <td>1</td>\n",
              "      <td>I liked the Da Vinci Code but it ultimatly didn't seem to hold it's own.</td>\n",
              "    </tr>\n",
              "  </tbody>\n",
              "</table>\n",
              "</div>"
            ],
            "text/plain": [
              "   sentiment                                                                                                                          text\n",
              "0          1                                                                                       The Da Vinci Code book is just awesome.\n",
              "1          1  this was the first clive cussler i've ever read, but even books like Relic, and Da Vinci code were more plausible than this.\n",
              "2          1                                                                                              i liked the Da Vinci Code a lot.\n",
              "3          1                                                                                              i liked the Da Vinci Code a lot.\n",
              "4          1                                                      I liked the Da Vinci Code but it ultimatly didn't seem to hold it's own."
            ]
          },
          "metadata": {
            "tags": []
          },
          "execution_count": 2
        }
      ]
    },
    {
      "cell_type": "code",
      "metadata": {
        "colab": {
          "base_uri": "https://localhost:8080/",
          "height": 204
        },
        "id": "wEiZ6hdGhZyQ",
        "outputId": "89e65750-ab1e-4d7f-9d5f-85db9616d46e"
      },
      "source": [
        "# To summarize the first 5 negative sentiments\r\n",
        "train_ds[train_ds.sentiment == 0][0:5]\r\n"
      ],
      "execution_count": 3,
      "outputs": [
        {
          "output_type": "execute_result",
          "data": {
            "text/html": [
              "<div>\n",
              "<style scoped>\n",
              "    .dataframe tbody tr th:only-of-type {\n",
              "        vertical-align: middle;\n",
              "    }\n",
              "\n",
              "    .dataframe tbody tr th {\n",
              "        vertical-align: top;\n",
              "    }\n",
              "\n",
              "    .dataframe thead th {\n",
              "        text-align: right;\n",
              "    }\n",
              "</style>\n",
              "<table border=\"1\" class=\"dataframe\">\n",
              "  <thead>\n",
              "    <tr style=\"text-align: right;\">\n",
              "      <th></th>\n",
              "      <th>sentiment</th>\n",
              "      <th>text</th>\n",
              "    </tr>\n",
              "  </thead>\n",
              "  <tbody>\n",
              "    <tr>\n",
              "      <th>3943</th>\n",
              "      <td>0</td>\n",
              "      <td>da vinci code was a terrible movie.</td>\n",
              "    </tr>\n",
              "    <tr>\n",
              "      <th>3944</th>\n",
              "      <td>0</td>\n",
              "      <td>Then again, the Da Vinci code is super shitty movie, and it made like 700 million.</td>\n",
              "    </tr>\n",
              "    <tr>\n",
              "      <th>3945</th>\n",
              "      <td>0</td>\n",
              "      <td>The Da Vinci Code comes out tomorrow, which sucks.</td>\n",
              "    </tr>\n",
              "    <tr>\n",
              "      <th>3946</th>\n",
              "      <td>0</td>\n",
              "      <td>i thought the da vinci code movie was really boring.</td>\n",
              "    </tr>\n",
              "    <tr>\n",
              "      <th>3947</th>\n",
              "      <td>0</td>\n",
              "      <td>God, Yahoo Games has this truly-awful looking Da Vinci Code-themed skin on it's chessboard right now.</td>\n",
              "    </tr>\n",
              "  </tbody>\n",
              "</table>\n",
              "</div>"
            ],
            "text/plain": [
              "      sentiment                                                                                                   text\n",
              "3943          0                                                                    da vinci code was a terrible movie.\n",
              "3944          0                     Then again, the Da Vinci code is super shitty movie, and it made like 700 million.\n",
              "3945          0                                                     The Da Vinci Code comes out tomorrow, which sucks.\n",
              "3946          0                                                   i thought the da vinci code movie was really boring.\n",
              "3947          0  God, Yahoo Games has this truly-awful looking Da Vinci Code-themed skin on it's chessboard right now."
            ]
          },
          "metadata": {
            "tags": []
          },
          "execution_count": 3
        }
      ]
    },
    {
      "cell_type": "code",
      "metadata": {
        "colab": {
          "base_uri": "https://localhost:8080/",
          "height": 204
        },
        "id": "BtROuGGnhmUU",
        "outputId": "bcd75f1e-73d9-4895-a82e-cd7439cc137a"
      },
      "source": [
        "# To summarize the first 5 positive sentiments\r\n",
        "train_ds[train_ds.sentiment == 1][0:5]\r\n"
      ],
      "execution_count": 4,
      "outputs": [
        {
          "output_type": "execute_result",
          "data": {
            "text/html": [
              "<div>\n",
              "<style scoped>\n",
              "    .dataframe tbody tr th:only-of-type {\n",
              "        vertical-align: middle;\n",
              "    }\n",
              "\n",
              "    .dataframe tbody tr th {\n",
              "        vertical-align: top;\n",
              "    }\n",
              "\n",
              "    .dataframe thead th {\n",
              "        text-align: right;\n",
              "    }\n",
              "</style>\n",
              "<table border=\"1\" class=\"dataframe\">\n",
              "  <thead>\n",
              "    <tr style=\"text-align: right;\">\n",
              "      <th></th>\n",
              "      <th>sentiment</th>\n",
              "      <th>text</th>\n",
              "    </tr>\n",
              "  </thead>\n",
              "  <tbody>\n",
              "    <tr>\n",
              "      <th>0</th>\n",
              "      <td>1</td>\n",
              "      <td>The Da Vinci Code book is just awesome.</td>\n",
              "    </tr>\n",
              "    <tr>\n",
              "      <th>1</th>\n",
              "      <td>1</td>\n",
              "      <td>this was the first clive cussler i've ever read, but even books like Relic, and Da Vinci code were more plausible than this.</td>\n",
              "    </tr>\n",
              "    <tr>\n",
              "      <th>2</th>\n",
              "      <td>1</td>\n",
              "      <td>i liked the Da Vinci Code a lot.</td>\n",
              "    </tr>\n",
              "    <tr>\n",
              "      <th>3</th>\n",
              "      <td>1</td>\n",
              "      <td>i liked the Da Vinci Code a lot.</td>\n",
              "    </tr>\n",
              "    <tr>\n",
              "      <th>4</th>\n",
              "      <td>1</td>\n",
              "      <td>I liked the Da Vinci Code but it ultimatly didn't seem to hold it's own.</td>\n",
              "    </tr>\n",
              "  </tbody>\n",
              "</table>\n",
              "</div>"
            ],
            "text/plain": [
              "   sentiment                                                                                                                          text\n",
              "0          1                                                                                       The Da Vinci Code book is just awesome.\n",
              "1          1  this was the first clive cussler i've ever read, but even books like Relic, and Da Vinci code were more plausible than this.\n",
              "2          1                                                                                              i liked the Da Vinci Code a lot.\n",
              "3          1                                                                                              i liked the Da Vinci Code a lot.\n",
              "4          1                                                      I liked the Da Vinci Code but it ultimatly didn't seem to hold it's own."
            ]
          },
          "metadata": {
            "tags": []
          },
          "execution_count": 4
        }
      ]
    },
    {
      "cell_type": "markdown",
      "metadata": {
        "id": "3pdtZzAAiKvf"
      },
      "source": [
        "###**10.2.2 Exploring the dataset**"
      ]
    },
    {
      "cell_type": "code",
      "metadata": {
        "colab": {
          "base_uri": "https://localhost:8080/"
        },
        "id": "zJIkvag4h-fu",
        "outputId": "4ba6dda5-30ea-4df3-8859-d5a0f91b1d7a"
      },
      "source": [
        "train_ds.info()"
      ],
      "execution_count": 5,
      "outputs": [
        {
          "output_type": "stream",
          "text": [
            "<class 'pandas.core.frame.DataFrame'>\n",
            "RangeIndex: 6918 entries, 0 to 6917\n",
            "Data columns (total 2 columns):\n",
            " #   Column     Non-Null Count  Dtype \n",
            "---  ------     --------------  ----- \n",
            " 0   sentiment  6918 non-null   int64 \n",
            " 1   text       6918 non-null   object\n",
            "dtypes: int64(1), object(1)\n",
            "memory usage: 108.2+ KB\n"
          ],
          "name": "stdout"
        }
      ]
    },
    {
      "cell_type": "markdown",
      "metadata": {
        "id": "HWHrmB_EjMFH"
      },
      "source": [
        "It states that there are 6918 records avaliable in the data set"
      ]
    },
    {
      "cell_type": "code",
      "metadata": {
        "colab": {
          "base_uri": "https://localhost:8080/",
          "height": 334
        },
        "id": "L29dUWJ2iSng",
        "outputId": "dc8b02e4-0b64-464d-cf15-0b43db963654"
      },
      "source": [
        "import matplotlib.pyplot as plt\r\n",
        "import seaborn as sn\r\n",
        "%matplotlib inline\r\n",
        "plt.figure( figsize=(6,5))\r\n",
        "# create count plot\r\n",
        "ax = sn.countplot(x='sentiment', data=train_ds)\r\n",
        "# annotate\r\n",
        "for p in ax.patches:\r\n",
        "  ax.annotate(p.get_height(), (p.get_x()+0.1, p.get_height()+50))\r\n"
      ],
      "execution_count": 6,
      "outputs": [
        {
          "output_type": "display_data",
          "data": {
            "image/png": "[encoded data removed]",
            "text/plain": [
              "<Figure size 432x360 with 1 Axes>"
            ]
          },
          "metadata": {
            "tags": [],
            "needs_background": "light"
          }
        }
      ]
    },
    {
      "cell_type": "markdown",
      "metadata": {
        "id": "a0yAgSa4sN2f"
      },
      "source": [
        "###**10.2.3 Text Preprocessing**\r\n",
        "### **Bag of words(BoW) Model**\r\n",
        "\r\n",
        "####10.2.3.2 Creating Count Vectors for sentiment_train dataset"
      ]
    },
    {
      "cell_type": "code",
      "metadata": {
        "colab": {
          "base_uri": "https://localhost:8080/"
        },
        "id": "D2ZU65FcjkIb",
        "outputId": "a1e8b1dc-da47-46ff-dc78-1beff90e07e1"
      },
      "source": [
        "from sklearn.feature_extraction.text import CountVectorizer\r\n",
        "# Initialize the CountVectorizer\r\n",
        "count_vectorizer = CountVectorizer()\r\n",
        "# Create the dictionary from the corpus\r\n",
        "feature_vector = count_vectorizer.fit( train_ds.text )\r\n",
        "# Get the feature names\r\n",
        "features = feature_vector.get_feature_names()\r\n",
        "print( \"Total number of features: \", len(features))"
      ],
      "execution_count": 7,
      "outputs": [
        {
          "output_type": "stream",
          "text": [
            "Total number of features:  2132\n"
          ],
          "name": "stdout"
        }
      ]
    },
    {
      "cell_type": "markdown",
      "metadata": {
        "id": "of0ucDO0tN9P"
      },
      "source": [
        "Totla number of unique features 2132\r\n"
      ]
    },
    {
      "cell_type": "code",
      "metadata": {
        "colab": {
          "base_uri": "https://localhost:8080/"
        },
        "id": "o2JKcznUs6V9",
        "outputId": "a8f19369-803a-416c-d6ed-d559b56e834c"
      },
      "source": [
        "#obtaining random sample of features\r\n",
        "import random\r\n",
        "random.sample(features, 10)"
      ],
      "execution_count": 8,
      "outputs": [
        {
          "output_type": "execute_result",
          "data": {
            "text/plain": [
              "['keeps',\n",
              " 'erm',\n",
              " 'every',\n",
              " 'horses',\n",
              " 'hips',\n",
              " 'war',\n",
              " 'color',\n",
              " 'hogwash',\n",
              " 'starring',\n",
              " 'react']"
            ]
          },
          "metadata": {
            "tags": []
          },
          "execution_count": 8
        }
      ]
    },
    {
      "cell_type": "code",
      "metadata": {
        "colab": {
          "base_uri": "https://localhost:8080/"
        },
        "id": "nkZLe-zttnrx",
        "outputId": "885b7110-fa60-46c2-abdc-919c72286062"
      },
      "source": [
        "# converting all the documents in the dataset to count vectors\r\n",
        "train_ds_features = count_vectorizer.transform( train_ds.text )\r\n",
        "type(train_ds_features)"
      ],
      "execution_count": 9,
      "outputs": [
        {
          "output_type": "execute_result",
          "data": {
            "text/plain": [
              "scipy.sparse.csr.csr_matrix"
            ]
          },
          "metadata": {
            "tags": []
          },
          "execution_count": 9
        }
      ]
    },
    {
      "cell_type": "code",
      "metadata": {
        "colab": {
          "base_uri": "https://localhost:8080/"
        },
        "id": "folgQ1tOt-4w",
        "outputId": "d1a948bd-2b05-4200-e33f-64873a4e1151"
      },
      "source": [
        "# finding the dimention of the dataframe\r\n",
        "train_ds_features.shape"
      ],
      "execution_count": 10,
      "outputs": [
        {
          "output_type": "execute_result",
          "data": {
            "text/plain": [
              "(6918, 2132)"
            ]
          },
          "metadata": {
            "tags": []
          },
          "execution_count": 10
        }
      ]
    },
    {
      "cell_type": "markdown",
      "metadata": {
        "id": "UTxvecNuuZPr"
      },
      "source": [
        "i.e rows -reviews = 6918 and columns-features =2132"
      ]
    },
    {
      "cell_type": "code",
      "metadata": {
        "colab": {
          "base_uri": "https://localhost:8080/"
        },
        "id": "MtwLciw6uXNG",
        "outputId": "af6d55ff-8220-46f9-f80a-32b70397458c"
      },
      "source": [
        "#To know how many actual non-zero values  are present in the sparse matrix\r\n",
        "train_ds_features.getnnz()"
      ],
      "execution_count": 11,
      "outputs": [
        {
          "output_type": "execute_result",
          "data": {
            "text/plain": [
              "65398"
            ]
          },
          "metadata": {
            "tags": []
          },
          "execution_count": 11
        }
      ]
    },
    {
      "cell_type": "code",
      "metadata": {
        "colab": {
          "base_uri": "https://localhost:8080/"
        },
        "id": "UmhMFvv2u6Op",
        "outputId": "3eeb5221-4b0c-4baf-b870-d64e1f386480"
      },
      "source": [
        "# proportion of non zero values with respect to zero values in the matrix\r\n",
        "print( \"Density of the matrix: \",\r\n",
        "train_ds_features.getnnz() * 100 /\r\n",
        "(train_ds_features.shape[0] * train_ds_features.shape[1]))"
      ],
      "execution_count": 12,
      "outputs": [
        {
          "output_type": "stream",
          "text": [
            "Density of the matrix:  0.4434010415225908\n"
          ],
          "name": "stdout"
        }
      ]
    },
    {
      "cell_type": "markdown",
      "metadata": {
        "id": "frB3ADuQvbmd"
      },
      "source": [
        "####**10.2.3.3 Displaying Document Vectors**"
      ]
    },
    {
      "cell_type": "code",
      "metadata": {
        "id": "Ar3eEnqCvPn7"
      },
      "source": [
        "# Converting the matrix to a dataframe\r\n",
        "train_ds_df = pd.DataFrame(train_ds_features.todense())\r\n",
        "# Setting the column names to the features i.e. words\r\n",
        "train_ds_df.columns = features"
      ],
      "execution_count": 13,
      "outputs": []
    },
    {
      "cell_type": "code",
      "metadata": {
        "colab": {
          "base_uri": "https://localhost:8080/",
          "height": 80
        },
        "id": "gWDY-HX5vt1u",
        "outputId": "6d882cff-12e6-4862-d1fc-77a4ffef6b60"
      },
      "source": [
        "train_ds[0:1]"
      ],
      "execution_count": 14,
      "outputs": [
        {
          "output_type": "execute_result",
          "data": {
            "text/html": [
              "<div>\n",
              "<style scoped>\n",
              "    .dataframe tbody tr th:only-of-type {\n",
              "        vertical-align: middle;\n",
              "    }\n",
              "\n",
              "    .dataframe tbody tr th {\n",
              "        vertical-align: top;\n",
              "    }\n",
              "\n",
              "    .dataframe thead th {\n",
              "        text-align: right;\n",
              "    }\n",
              "</style>\n",
              "<table border=\"1\" class=\"dataframe\">\n",
              "  <thead>\n",
              "    <tr style=\"text-align: right;\">\n",
              "      <th></th>\n",
              "      <th>sentiment</th>\n",
              "      <th>text</th>\n",
              "    </tr>\n",
              "  </thead>\n",
              "  <tbody>\n",
              "    <tr>\n",
              "      <th>0</th>\n",
              "      <td>1</td>\n",
              "      <td>The Da Vinci Code book is just awesome.</td>\n",
              "    </tr>\n",
              "  </tbody>\n",
              "</table>\n",
              "</div>"
            ],
            "text/plain": [
              "   sentiment                                     text\n",
              "0          1  The Da Vinci Code book is just awesome."
            ]
          },
          "metadata": {
            "tags": []
          },
          "execution_count": 14
        }
      ]
    },
    {
      "cell_type": "code",
      "metadata": {
        "id": "a3xau7jevzwE",
        "colab": {
          "base_uri": "https://localhost:8080/",
          "height": 80
        },
        "outputId": "27dc7c36-e445-4be7-cf61-8e33fc109e5d"
      },
      "source": [
        "train_ds_df.iloc[0:1, 150:157]"
      ],
      "execution_count": 15,
      "outputs": [
        {
          "output_type": "execute_result",
          "data": {
            "text/html": [
              "<div>\n",
              "<style scoped>\n",
              "    .dataframe tbody tr th:only-of-type {\n",
              "        vertical-align: middle;\n",
              "    }\n",
              "\n",
              "    .dataframe tbody tr th {\n",
              "        vertical-align: top;\n",
              "    }\n",
              "\n",
              "    .dataframe thead th {\n",
              "        text-align: right;\n",
              "    }\n",
              "</style>\n",
              "<table border=\"1\" class=\"dataframe\">\n",
              "  <thead>\n",
              "    <tr style=\"text-align: right;\">\n",
              "      <th></th>\n",
              "      <th>away</th>\n",
              "      <th>awesome</th>\n",
              "      <th>awesomely</th>\n",
              "      <th>awesomeness</th>\n",
              "      <th>awesomest</th>\n",
              "      <th>awful</th>\n",
              "      <th>awkward</th>\n",
              "    </tr>\n",
              "  </thead>\n",
              "  <tbody>\n",
              "    <tr>\n",
              "      <th>0</th>\n",
              "      <td>0</td>\n",
              "      <td>1</td>\n",
              "      <td>0</td>\n",
              "      <td>0</td>\n",
              "      <td>0</td>\n",
              "      <td>0</td>\n",
              "      <td>0</td>\n",
              "    </tr>\n",
              "  </tbody>\n",
              "</table>\n",
              "</div>"
            ],
            "text/plain": [
              "   away  awesome  awesomely  awesomeness  awesomest  awful  awkward\n",
              "0     0        1          0            0          0      0        0"
            ]
          },
          "metadata": {
            "tags": []
          },
          "execution_count": 15
        }
      ]
    },
    {
      "cell_type": "code",
      "metadata": {
        "colab": {
          "base_uri": "https://localhost:8080/",
          "height": 80
        },
        "id": "lRx1cDkB6QC6",
        "outputId": "8ac65979-81e2-4ab4-85a3-9c1b13d619c1"
      },
      "source": [
        "train_ds_df[['the', 'da', \"vinci\", \"code\", \"book\", 'is', 'just', 'awesome']][0:1\r\n",
        "]\r\n"
      ],
      "execution_count": 16,
      "outputs": [
        {
          "output_type": "execute_result",
          "data": {
            "text/html": [
              "<div>\n",
              "<style scoped>\n",
              "    .dataframe tbody tr th:only-of-type {\n",
              "        vertical-align: middle;\n",
              "    }\n",
              "\n",
              "    .dataframe tbody tr th {\n",
              "        vertical-align: top;\n",
              "    }\n",
              "\n",
              "    .dataframe thead th {\n",
              "        text-align: right;\n",
              "    }\n",
              "</style>\n",
              "<table border=\"1\" class=\"dataframe\">\n",
              "  <thead>\n",
              "    <tr style=\"text-align: right;\">\n",
              "      <th></th>\n",
              "      <th>the</th>\n",
              "      <th>da</th>\n",
              "      <th>vinci</th>\n",
              "      <th>code</th>\n",
              "      <th>book</th>\n",
              "      <th>is</th>\n",
              "      <th>just</th>\n",
              "      <th>awesome</th>\n",
              "    </tr>\n",
              "  </thead>\n",
              "  <tbody>\n",
              "    <tr>\n",
              "      <th>0</th>\n",
              "      <td>1</td>\n",
              "      <td>1</td>\n",
              "      <td>1</td>\n",
              "      <td>1</td>\n",
              "      <td>1</td>\n",
              "      <td>1</td>\n",
              "      <td>1</td>\n",
              "      <td>1</td>\n",
              "    </tr>\n",
              "  </tbody>\n",
              "</table>\n",
              "</div>"
            ],
            "text/plain": [
              "   the  da  vinci  code  book  is  just  awesome\n",
              "0    1   1      1     1     1   1     1        1"
            ]
          },
          "metadata": {
            "tags": []
          },
          "execution_count": 16
        }
      ]
    },
    {
      "cell_type": "markdown",
      "metadata": {
        "id": "PRtSVIA06flo"
      },
      "source": [
        "####**10.2.3.4 Removing low frequency words**"
      ]
    },
    {
      "cell_type": "markdown",
      "metadata": {
        "id": "HgImZymm65VM"
      },
      "source": [
        "Dealing with the number of features available in the corpus is difficult. so to calculate the frequency of word occuring in the corpus "
      ]
    },
    {
      "cell_type": "code",
      "metadata": {
        "id": "Abh11MP2646Y"
      },
      "source": [
        "# summing up the occurances of features column wise\r\n",
        "features_counts = np.sum( train_ds_features.toarray(), axis = 0 )\r\n",
        "feature_counts_df = pd.DataFrame( dict( features = features,\r\n",
        "counts = features_counts ) )"
      ],
      "execution_count": 17,
      "outputs": []
    },
    {
      "cell_type": "markdown",
      "metadata": {
        "id": "L8VNTDyK7kis"
      },
      "source": [
        "Histogram\r\n"
      ]
    },
    {
      "cell_type": "code",
      "metadata": {
        "colab": {
          "base_uri": "https://localhost:8080/",
          "height": 334
        },
        "id": "-HskSyFK6ccm",
        "outputId": "0d7985eb-f71b-41eb-be98-1ff2615824b0"
      },
      "source": [
        "plt.figure( figsize=(12,5))\r\n",
        "plt.hist(feature_counts_df.counts, bins=50, range = (0, 2000));\r\n",
        "plt.xlabel( 'Frequency of words' )\r\n",
        "plt.ylabel( 'Density' );\r\n"
      ],
      "execution_count": 18,
      "outputs": [
        {
          "output_type": "display_data",
          "data": {
            "image/png": "[encoded data removed]",
            "text/plain": [
              "<Figure size 864x360 with 1 Axes>"
            ]
          },
          "metadata": {
            "tags": [],
            "needs_background": "light"
          }
        }
      ]
    },
    {
      "cell_type": "markdown",
      "metadata": {
        "id": "T-lqoMAN7yoR"
      },
      "source": [
        "Filter the rear features by the count equal to 1"
      ]
    },
    {
      "cell_type": "code",
      "metadata": {
        "colab": {
          "base_uri": "https://localhost:8080/"
        },
        "id": "G4pQug_y7qF6",
        "outputId": "fc25f702-e14f-4021-d579-30f78678860f"
      },
      "source": [
        "len(feature_counts_df[feature_counts_df.counts == 1])\r\n"
      ],
      "execution_count": 19,
      "outputs": [
        {
          "output_type": "execute_result",
          "data": {
            "text/plain": [
              "1228"
            ]
          },
          "metadata": {
            "tags": []
          },
          "execution_count": 19
        }
      ]
    },
    {
      "cell_type": "markdown",
      "metadata": {
        "id": "fgIZZHrk8eJY"
      },
      "source": [
        "the words that appears only once across all the documents can be ignored.\r\n",
        "Creating the count vector without them.\r\n"
      ]
    },
    {
      "cell_type": "code",
      "metadata": {
        "id": "TnEQuhP28FsF"
      },
      "source": [
        "# Initialize the CountVectorizer\r\n",
        "count_vectorizer = CountVectorizer(max_features=1000)\r\n",
        "# Create the dictionary from the corpus\r\n",
        "feature_vector = count_vectorizer.fit( train_ds.text )\r\n",
        "# Get the feature names\r\n",
        "features = feature_vector.get_feature_names()\r\n",
        "# Transform the document into vectors\r\n",
        "train_ds_features = count_vectorizer.transform( train_ds.text )\r\n",
        "# Count the frequency of the features\r\n",
        "features_counts = np.sum( train_ds_features.toarray(), axis = 0 )\r\n",
        "feature_counts = pd.DataFrame( dict( features = features,\r\n",
        "counts = features_counts ) )\r\n"
      ],
      "execution_count": 20,
      "outputs": []
    },
    {
      "cell_type": "code",
      "metadata": {
        "colab": {
          "base_uri": "https://localhost:8080/",
          "height": 514
        },
        "id": "bL3ed2eB8mVW",
        "outputId": "03ae98f1-74ca-4d47-ba53-154081beebcb"
      },
      "source": [
        "feature_counts.sort_values('counts',\r\n",
        "ascending = False)[0:15]\r\n"
      ],
      "execution_count": 21,
      "outputs": [
        {
          "output_type": "execute_result",
          "data": {
            "text/html": [
              "<div>\n",
              "<style scoped>\n",
              "    .dataframe tbody tr th:only-of-type {\n",
              "        vertical-align: middle;\n",
              "    }\n",
              "\n",
              "    .dataframe tbody tr th {\n",
              "        vertical-align: top;\n",
              "    }\n",
              "\n",
              "    .dataframe thead th {\n",
              "        text-align: right;\n",
              "    }\n",
              "</style>\n",
              "<table border=\"1\" class=\"dataframe\">\n",
              "  <thead>\n",
              "    <tr style=\"text-align: right;\">\n",
              "      <th></th>\n",
              "      <th>features</th>\n",
              "      <th>counts</th>\n",
              "    </tr>\n",
              "  </thead>\n",
              "  <tbody>\n",
              "    <tr>\n",
              "      <th>866</th>\n",
              "      <td>the</td>\n",
              "      <td>3306</td>\n",
              "    </tr>\n",
              "    <tr>\n",
              "      <th>37</th>\n",
              "      <td>and</td>\n",
              "      <td>2154</td>\n",
              "    </tr>\n",
              "    <tr>\n",
              "      <th>358</th>\n",
              "      <td>harry</td>\n",
              "      <td>2093</td>\n",
              "    </tr>\n",
              "    <tr>\n",
              "      <th>675</th>\n",
              "      <td>potter</td>\n",
              "      <td>2093</td>\n",
              "    </tr>\n",
              "    <tr>\n",
              "      <th>138</th>\n",
              "      <td>code</td>\n",
              "      <td>2002</td>\n",
              "    </tr>\n",
              "    <tr>\n",
              "      <th>934</th>\n",
              "      <td>vinci</td>\n",
              "      <td>2001</td>\n",
              "    </tr>\n",
              "    <tr>\n",
              "      <th>178</th>\n",
              "      <td>da</td>\n",
              "      <td>2001</td>\n",
              "    </tr>\n",
              "    <tr>\n",
              "      <th>528</th>\n",
              "      <td>mountain</td>\n",
              "      <td>2000</td>\n",
              "    </tr>\n",
              "    <tr>\n",
              "      <th>104</th>\n",
              "      <td>brokeback</td>\n",
              "      <td>2000</td>\n",
              "    </tr>\n",
              "    <tr>\n",
              "      <th>488</th>\n",
              "      <td>love</td>\n",
              "      <td>1624</td>\n",
              "    </tr>\n",
              "    <tr>\n",
              "      <th>423</th>\n",
              "      <td>is</td>\n",
              "      <td>1520</td>\n",
              "    </tr>\n",
              "    <tr>\n",
              "      <th>941</th>\n",
              "      <td>was</td>\n",
              "      <td>1176</td>\n",
              "    </tr>\n",
              "    <tr>\n",
              "      <th>60</th>\n",
              "      <td>awesome</td>\n",
              "      <td>1127</td>\n",
              "    </tr>\n",
              "    <tr>\n",
              "      <th>521</th>\n",
              "      <td>mission</td>\n",
              "      <td>1094</td>\n",
              "    </tr>\n",
              "    <tr>\n",
              "      <th>413</th>\n",
              "      <td>impossible</td>\n",
              "      <td>1093</td>\n",
              "    </tr>\n",
              "  </tbody>\n",
              "</table>\n",
              "</div>"
            ],
            "text/plain": [
              "       features  counts\n",
              "866         the    3306\n",
              "37          and    2154\n",
              "358       harry    2093\n",
              "675      potter    2093\n",
              "138        code    2002\n",
              "934       vinci    2001\n",
              "178          da    2001\n",
              "528    mountain    2000\n",
              "104   brokeback    2000\n",
              "488        love    1624\n",
              "423          is    1520\n",
              "941         was    1176\n",
              "60      awesome    1127\n",
              "521     mission    1094\n",
              "413  impossible    1093"
            ]
          },
          "metadata": {
            "tags": []
          },
          "execution_count": 21
        }
      ]
    },
    {
      "cell_type": "markdown",
      "metadata": {
        "id": "-u42sQ-_82uU"
      },
      "source": [
        "####**10.2.3.5 Removing Stop Words**"
      ]
    },
    {
      "cell_type": "code",
      "metadata": {
        "colab": {
          "base_uri": "https://localhost:8080/"
        },
        "id": "Yy9nCUfD8pyN",
        "outputId": "7dd7211e-e649-45c6-d4b0-77ec867e9aab"
      },
      "source": [
        "from sklearn.feature_extraction import text\r\n",
        "my_stop_words = text.ENGLISH_STOP_WORDS\r\n",
        "#Printing first few stop words\r\n",
        "print(\"Few stop words: \", list(my_stop_words)[0:10])\r\n"
      ],
      "execution_count": 22,
      "outputs": [
        {
          "output_type": "stream",
          "text": [
            "Few stop words:  ['hers', 'this', 'ever', 'myself', 'although', 'then', 'hence', 'often', 'us', 'who']\n"
          ],
          "name": "stdout"
        }
      ]
    },
    {
      "cell_type": "code",
      "metadata": {
        "id": "OTQOrdCl89vq"
      },
      "source": [
        "# Adding custom words to the list of stop words\r\n",
        "my_stop_words = text.ENGLISH_STOP_WORDS.union( ['harry', 'potter', 'code', 'vinci', 'da','harry', 'mountain', 'movie',\r\n",
        "                                                'movies'])"
      ],
      "execution_count": 24,
      "outputs": []
    },
    {
      "cell_type": "markdown",
      "metadata": {
        "id": "chp24m_39gQ9"
      },
      "source": [
        "####**$$10.2.3.6 Creating Count Vectors**"
      ]
    },
    {
      "cell_type": "code",
      "metadata": {
        "id": "HSMlFsdw9GlO"
      },
      "source": [
        "# Setting stop words list\r\n",
        "count_vectorizer = CountVectorizer( stop_words = my_stop_words,\r\n",
        "max_features = 1000 )\r\n",
        "feature_vector = count_vectorizer.fit( train_ds.text )\r\n",
        "train_ds_features = count_vectorizer.transform( train_ds.text )\r\n",
        "features = feature_vector.get_feature_names()\r\n",
        "features_counts = np.sum( train_ds_features.toarray(), axis = 0 )\r\n",
        "feature_counts = pd.DataFrame( dict( features = features,\r\n",
        "counts = features_counts ) )"
      ],
      "execution_count": 25,
      "outputs": []
    },
    {
      "cell_type": "code",
      "metadata": {
        "colab": {
          "base_uri": "https://localhost:8080/",
          "height": 514
        },
        "id": "TNSghBaV9obB",
        "outputId": "f559915e-7691-41fa-9654-bce8fe48dd68"
      },
      "source": [
        "feature_counts.sort_values( \"counts\", ascending = False )[0:15]"
      ],
      "execution_count": 26,
      "outputs": [
        {
          "output_type": "execute_result",
          "data": {
            "text/html": [
              "<div>\n",
              "<style scoped>\n",
              "    .dataframe tbody tr th:only-of-type {\n",
              "        vertical-align: middle;\n",
              "    }\n",
              "\n",
              "    .dataframe tbody tr th {\n",
              "        vertical-align: top;\n",
              "    }\n",
              "\n",
              "    .dataframe thead th {\n",
              "        text-align: right;\n",
              "    }\n",
              "</style>\n",
              "<table border=\"1\" class=\"dataframe\">\n",
              "  <thead>\n",
              "    <tr style=\"text-align: right;\">\n",
              "      <th></th>\n",
              "      <th>features</th>\n",
              "      <th>counts</th>\n",
              "    </tr>\n",
              "  </thead>\n",
              "  <tbody>\n",
              "    <tr>\n",
              "      <th>73</th>\n",
              "      <td>brokeback</td>\n",
              "      <td>2000</td>\n",
              "    </tr>\n",
              "    <tr>\n",
              "      <th>408</th>\n",
              "      <td>love</td>\n",
              "      <td>1624</td>\n",
              "    </tr>\n",
              "    <tr>\n",
              "      <th>39</th>\n",
              "      <td>awesome</td>\n",
              "      <td>1127</td>\n",
              "    </tr>\n",
              "    <tr>\n",
              "      <th>436</th>\n",
              "      <td>mission</td>\n",
              "      <td>1094</td>\n",
              "    </tr>\n",
              "    <tr>\n",
              "      <th>341</th>\n",
              "      <td>impossible</td>\n",
              "      <td>1093</td>\n",
              "    </tr>\n",
              "    <tr>\n",
              "      <th>390</th>\n",
              "      <td>like</td>\n",
              "      <td>974</td>\n",
              "    </tr>\n",
              "    <tr>\n",
              "      <th>745</th>\n",
              "      <td>sucks</td>\n",
              "      <td>602</td>\n",
              "    </tr>\n",
              "    <tr>\n",
              "      <th>743</th>\n",
              "      <td>sucked</td>\n",
              "      <td>600</td>\n",
              "    </tr>\n",
              "    <tr>\n",
              "      <th>297</th>\n",
              "      <td>hate</td>\n",
              "      <td>578</td>\n",
              "    </tr>\n",
              "    <tr>\n",
              "      <th>652</th>\n",
              "      <td>really</td>\n",
              "      <td>374</td>\n",
              "    </tr>\n",
              "    <tr>\n",
              "      <th>741</th>\n",
              "      <td>stupid</td>\n",
              "      <td>365</td>\n",
              "    </tr>\n",
              "    <tr>\n",
              "      <th>362</th>\n",
              "      <td>just</td>\n",
              "      <td>287</td>\n",
              "    </tr>\n",
              "    <tr>\n",
              "      <th>374</th>\n",
              "      <td>know</td>\n",
              "      <td>276</td>\n",
              "    </tr>\n",
              "    <tr>\n",
              "      <th>742</th>\n",
              "      <td>suck</td>\n",
              "      <td>276</td>\n",
              "    </tr>\n",
              "    <tr>\n",
              "      <th>409</th>\n",
              "      <td>loved</td>\n",
              "      <td>256</td>\n",
              "    </tr>\n",
              "  </tbody>\n",
              "</table>\n",
              "</div>"
            ],
            "text/plain": [
              "       features  counts\n",
              "73    brokeback    2000\n",
              "408        love    1624\n",
              "39      awesome    1127\n",
              "436     mission    1094\n",
              "341  impossible    1093\n",
              "390        like     974\n",
              "745       sucks     602\n",
              "743      sucked     600\n",
              "297        hate     578\n",
              "652      really     374\n",
              "741      stupid     365\n",
              "362        just     287\n",
              "374        know     276\n",
              "742        suck     276\n",
              "409       loved     256"
            ]
          },
          "metadata": {
            "tags": []
          },
          "execution_count": 26
        }
      ]
    },
    {
      "cell_type": "markdown",
      "metadata": {
        "id": "OjY2DkRl924u"
      },
      "source": [
        "####**10.2.3.A Stemming and Lemmatization**\r\n"
      ]
    },
    {
      "cell_type": "code",
      "metadata": {
        "id": "XewFPheZ9rDD"
      },
      "source": [
        "from nltk.stem.snowball import PorterStemmer\r\n",
        "stemmer = PorterStemmer()\r\n",
        "analyzer = CountVectorizer().build_analyzer()\r\n",
        "#Custom function for stemming and stop word removal\r\n",
        "def stemmed_words(doc):\r\n",
        "  ### Stemming of words\r\n",
        "  stemmed_words = (stemmer.stem(w) for w in analyzer(doc))\r\n",
        "  ### Remove the words in stop words list\r\n",
        "  non_stop_words = [ word for word in list(set(stemmed_words) - set(my_stop_words)) ]\r\n",
        "  return non_stop_words "
      ],
      "execution_count": 28,
      "outputs": []
    },
    {
      "cell_type": "markdown",
      "metadata": {
        "id": "8qIOBN-8-1Bh"
      },
      "source": [
        "The custom function _stemmed_words()_ is passed as an analyser."
      ]
    },
    {
      "cell_type": "code",
      "metadata": {
        "colab": {
          "base_uri": "https://localhost:8080/",
          "height": 514
        },
        "id": "6B0EI0x3-Rq9",
        "outputId": "85fbf1e1-75e9-4094-8f22-35376dff976a"
      },
      "source": [
        "count_vectorizer = CountVectorizer( analyzer=stemmed_words,\r\n",
        "max_features = 1000)\r\n",
        "feature_vector = count_vectorizer.fit( train_ds.text )\r\n",
        "train_ds_features = count_vectorizer.transform( train_ds.text )\r\n",
        "features = feature_vector.get_feature_names()\r\n",
        "features_counts = np.sum( train_ds_features.toarray(), axis = 0 )\r\n",
        "feature_counts = pd.DataFrame( dict( features = features,\r\n",
        "counts = features_counts ) )\r\n",
        "feature_counts.sort_values( \"counts\", ascending = False )[0:15]"
      ],
      "execution_count": 29,
      "outputs": [
        {
          "output_type": "execute_result",
          "data": {
            "text/html": [
              "<div>\n",
              "<style scoped>\n",
              "    .dataframe tbody tr th:only-of-type {\n",
              "        vertical-align: middle;\n",
              "    }\n",
              "\n",
              "    .dataframe tbody tr th {\n",
              "        vertical-align: top;\n",
              "    }\n",
              "\n",
              "    .dataframe thead th {\n",
              "        text-align: right;\n",
              "    }\n",
              "</style>\n",
              "<table border=\"1\" class=\"dataframe\">\n",
              "  <thead>\n",
              "    <tr style=\"text-align: right;\">\n",
              "      <th></th>\n",
              "      <th>features</th>\n",
              "      <th>counts</th>\n",
              "    </tr>\n",
              "  </thead>\n",
              "  <tbody>\n",
              "    <tr>\n",
              "      <th>80</th>\n",
              "      <td>brokeback</td>\n",
              "      <td>1930</td>\n",
              "    </tr>\n",
              "    <tr>\n",
              "      <th>297</th>\n",
              "      <td>harri</td>\n",
              "      <td>1916</td>\n",
              "    </tr>\n",
              "    <tr>\n",
              "      <th>407</th>\n",
              "      <td>love</td>\n",
              "      <td>1837</td>\n",
              "    </tr>\n",
              "    <tr>\n",
              "      <th>803</th>\n",
              "      <td>suck</td>\n",
              "      <td>1378</td>\n",
              "    </tr>\n",
              "    <tr>\n",
              "      <th>922</th>\n",
              "      <td>wa</td>\n",
              "      <td>1142</td>\n",
              "    </tr>\n",
              "    <tr>\n",
              "      <th>43</th>\n",
              "      <td>awesom</td>\n",
              "      <td>1116</td>\n",
              "    </tr>\n",
              "    <tr>\n",
              "      <th>345</th>\n",
              "      <td>imposs</td>\n",
              "      <td>1090</td>\n",
              "    </tr>\n",
              "    <tr>\n",
              "      <th>433</th>\n",
              "      <td>mission</td>\n",
              "      <td>1090</td>\n",
              "    </tr>\n",
              "    <tr>\n",
              "      <th>439</th>\n",
              "      <td>movi</td>\n",
              "      <td>1052</td>\n",
              "    </tr>\n",
              "    <tr>\n",
              "      <th>393</th>\n",
              "      <td>like</td>\n",
              "      <td>823</td>\n",
              "    </tr>\n",
              "    <tr>\n",
              "      <th>299</th>\n",
              "      <td>hate</td>\n",
              "      <td>636</td>\n",
              "    </tr>\n",
              "    <tr>\n",
              "      <th>54</th>\n",
              "      <td>becaus</td>\n",
              "      <td>524</td>\n",
              "    </tr>\n",
              "    <tr>\n",
              "      <th>604</th>\n",
              "      <td>realli</td>\n",
              "      <td>370</td>\n",
              "    </tr>\n",
              "    <tr>\n",
              "      <th>796</th>\n",
              "      <td>stupid</td>\n",
              "      <td>364</td>\n",
              "    </tr>\n",
              "    <tr>\n",
              "      <th>379</th>\n",
              "      <td>know</td>\n",
              "      <td>354</td>\n",
              "    </tr>\n",
              "  </tbody>\n",
              "</table>\n",
              "</div>"
            ],
            "text/plain": [
              "      features  counts\n",
              "80   brokeback    1930\n",
              "297      harri    1916\n",
              "407       love    1837\n",
              "803       suck    1378\n",
              "922         wa    1142\n",
              "43      awesom    1116\n",
              "345     imposs    1090\n",
              "433    mission    1090\n",
              "439       movi    1052\n",
              "393       like     823\n",
              "299       hate     636\n",
              "54      becaus     524\n",
              "604     realli     370\n",
              "796     stupid     364\n",
              "379       know     354"
            ]
          },
          "metadata": {
            "tags": []
          },
          "execution_count": 29
        }
      ]
    },
    {
      "cell_type": "markdown",
      "metadata": {
        "id": "0f1Q38x7_MKz"
      },
      "source": [
        "####**10.2.3.7 Distribution of words across different sentiment**\r\n"
      ]
    },
    {
      "cell_type": "code",
      "metadata": {
        "id": "ScrftbUF_C5i"
      },
      "source": [
        "# Convert the document vector matrix into dataframe\r\n",
        "train_ds_df = pd.DataFrame(train_ds_features.todense())\r\n",
        "# Assign the features names to the column\r\n",
        "train_ds_df.columns = features\r\n",
        "# Assign the sentiment labels to the train_ds\r\n",
        "train_ds_df['sentiment'] = train_ds.sentiment"
      ],
      "execution_count": 34,
      "outputs": []
    },
    {
      "cell_type": "code",
      "metadata": {
        "colab": {
          "base_uri": "https://localhost:8080/",
          "height": 279
        },
        "id": "2kgaMLud_fWc",
        "outputId": "4cb9443d-bc64-4a94-ab24-a2893941b584"
      },
      "source": [
        "sn.barplot( x = 'sentiment', y = 'awesom', data = train_ds_df, estimator=sum );"
      ],
      "execution_count": 31,
      "outputs": [
        {
          "output_type": "display_data",
          "data": {
            "image/png": "[encoded data removed]",
            "text/plain": [
              "<Figure size 432x288 with 1 Axes>"
            ]
          },
          "metadata": {
            "tags": [],
            "needs_background": "light"
          }
        }
      ]
    },
    {
      "cell_type": "markdown",
      "metadata": {
        "id": "gKFOROPV_1xY"
      },
      "source": [
        "the word awsom apperars in most of the positive sentiment documents."
      ]
    },
    {
      "cell_type": "code",
      "metadata": {
        "colab": {
          "base_uri": "https://localhost:8080/",
          "height": 279
        },
        "id": "p25mfBqm_zlP",
        "outputId": "f3c5799c-1ea8-474f-9bef-4e454680af80"
      },
      "source": [
        "\r\n",
        "sn.barplot( x = 'sentiment', y = 'realli', data = train_ds_df, estimator=sum );"
      ],
      "execution_count": 32,
      "outputs": [
        {
          "output_type": "display_data",
          "data": {
            "image/png": "[encoded data removed]",
            "text/plain": [
              "<Figure size 432x288 with 1 Axes>"
            ]
          },
          "metadata": {
            "tags": [],
            "needs_background": "light"
          }
        }
      ]
    },
    {
      "cell_type": "markdown",
      "metadata": {
        "id": "UyW7X31HAP0J"
      },
      "source": [
        "the word realli occurs equally amoug the sentiments"
      ]
    },
    {
      "cell_type": "code",
      "metadata": {
        "colab": {
          "base_uri": "https://localhost:8080/",
          "height": 282
        },
        "id": "MVPHV9UpAM9T",
        "outputId": "54cc96ac-c62d-4f9a-c587-6855bed8fa68"
      },
      "source": [
        "sn.barplot( x = 'sentiment', y = 'hate', data = train_ds_df, estimator=sum );"
      ],
      "execution_count": 33,
      "outputs": [
        {
          "output_type": "display_data",
          "data": {
            "image/png": "[encoded data removed]",
            "text/plain": [
              "<Figure size 432x288 with 1 Axes>"
            ]
          },
          "metadata": {
            "tags": [],
            "needs_background": "light"
          }
        }
      ]
    },
    {
      "cell_type": "markdown",
      "metadata": {
        "id": "RcaCTwqpAfw_"
      },
      "source": [
        "hate occurs mostly in negative sentiments.\r\n"
      ]
    },
    {
      "cell_type": "markdown",
      "metadata": {
        "id": "T916YuC4AwM5"
      },
      "source": [
        "##**10.3 Naive Bayes Model for Sentiment Classification**"
      ]
    },
    {
      "cell_type": "markdown",
      "metadata": {
        "id": "-9lAkideAvKi"
      },
      "source": [
        "###**10.3.1 Split the dataset**"
      ]
    },
    {
      "cell_type": "code",
      "metadata": {
        "id": "s65VC8thCAf_"
      },
      "source": [
        "from sklearn.model_selection import train_test_split\r\n",
        "train_X, test_X, train_y, test_y = train_test_split( train_ds_features,\r\n",
        "train_ds.sentiment,\r\n",
        "test_size = 0.3,\r\n",
        "random_state = 42 )"
      ],
      "execution_count": 35,
      "outputs": []
    },
    {
      "cell_type": "markdown",
      "metadata": {
        "id": "57wrPgqhCLJ3"
      },
      "source": [
        "###**10.3.2 Build Naive Bayes Model**"
      ]
    },
    {
      "cell_type": "code",
      "metadata": {
        "colab": {
          "base_uri": "https://localhost:8080/"
        },
        "id": "YBLtRR0fCBBy",
        "outputId": "d3685990-22b0-4be5-8066-07bd4f5339ab"
      },
      "source": [
        "from sklearn.naive_bayes import BernoulliNB\r\n",
        "nb_clf = BernoulliNB()\r\n",
        "nb_clf.fit( train_X.toarray(), train_y )"
      ],
      "execution_count": 36,
      "outputs": [
        {
          "output_type": "execute_result",
          "data": {
            "text/plain": [
              "BernoulliNB(alpha=1.0, binarize=0.0, class_prior=None, fit_prior=True)"
            ]
          },
          "metadata": {
            "tags": []
          },
          "execution_count": 36
        }
      ]
    },
    {
      "cell_type": "markdown",
      "metadata": {
        "id": "kzkw-s2vCjaI"
      },
      "source": [
        "###**10.3.3 Make prediction on test case**"
      ]
    },
    {
      "cell_type": "code",
      "metadata": {
        "id": "cD_Yoe3VCYZu"
      },
      "source": [
        "test_ds_predicted = nb_clf.predict( test_X.toarray() )"
      ],
      "execution_count": 37,
      "outputs": []
    },
    {
      "cell_type": "markdown",
      "metadata": {
        "id": "bdYRJ24UCvWS"
      },
      "source": [
        "###**10.3.4 Print clasification report**"
      ]
    },
    {
      "cell_type": "code",
      "metadata": {
        "colab": {
          "base_uri": "https://localhost:8080/"
        },
        "id": "rwm_a4QiCqCG",
        "outputId": "ef8c1baf-cdd7-4667-b277-2bcbf6364911"
      },
      "source": [
        "from sklearn import metrics\r\n",
        "print( metrics.classification_report( test_y, test_ds_predicted ) )"
      ],
      "execution_count": 38,
      "outputs": [
        {
          "output_type": "stream",
          "text": [
            "              precision    recall  f1-score   support\n",
            "\n",
            "           0       0.98      0.97      0.98       873\n",
            "           1       0.98      0.99      0.98      1203\n",
            "\n",
            "    accuracy                           0.98      2076\n",
            "   macro avg       0.98      0.98      0.98      2076\n",
            "weighted avg       0.98      0.98      0.98      2076\n",
            "\n"
          ],
          "name": "stdout"
        }
      ]
    },
    {
      "cell_type": "code",
      "metadata": {
        "colab": {
          "base_uri": "https://localhost:8080/",
          "height": 265
        },
        "id": "CJEBCrQLC36h",
        "outputId": "a34159ca-19c8-4a37-9eea-0f4350303f7a"
      },
      "source": [
        "from sklearn import metrics\r\n",
        "cm = metrics.confusion_matrix( test_y, test_ds_predicted )\r\n",
        "sn.heatmap(cm, annot=True, fmt='.2f' );"
      ],
      "execution_count": 39,
      "outputs": [
        {
          "output_type": "display_data",
          "data": {
            "image/png": "[encoded data removed]",
            "text/plain": [
              "<Figure size 432x288 with 2 Axes>"
            ]
          },
          "metadata": {
            "tags": [],
            "needs_background": "light"
          }
        }
      ]
    },
    {
      "cell_type": "markdown",
      "metadata": {
        "id": "_LIc8cZ6DKMO"
      },
      "source": [
        "##**$$10.4 Using TF-IDF Vectorizer**"
      ]
    },
    {
      "cell_type": "markdown",
      "metadata": {
        "id": "0ayQIAmcDJ0R"
      },
      "source": [
        "Tfidfvectoriser is used to create both TF vectoriser and TF_IDF vectoriser"
      ]
    },
    {
      "cell_type": "code",
      "metadata": {
        "id": "PvtlW3hdDCsI"
      },
      "source": [
        "from sklearn.feature_extraction.text import TfidfVectorizer\r\n",
        "tfidf_vectorizer = TfidfVectorizer( analyzer=stemmed_words,\r\n",
        "max_features = 1000)\r\n",
        "feature_vector = tfidf_vectorizer.fit( train_ds.text )\r\n",
        "train_ds_features = tfidf_vectorizer.transform( train_ds.text )\r\n",
        "features = feature_vector.get_feature_names()"
      ],
      "execution_count": 40,
      "outputs": []
    },
    {
      "cell_type": "markdown",
      "metadata": {
        "id": "79N0zoLrDte5"
      },
      "source": [
        "TF-IDF are contineous values and these contineous values associated with each class can be assumed to be distributed according to gaussian distribution.\r\n"
      ]
    },
    {
      "cell_type": "code",
      "metadata": {
        "colab": {
          "base_uri": "https://localhost:8080/"
        },
        "id": "rmZjNVBzDZ71",
        "outputId": "ffe31972-cdca-4edb-be9d-2e636f9c2827"
      },
      "source": [
        "from sklearn.naive_bayes import GaussianNB\r\n",
        "train_X, test_X, train_y, test_y = train_test_split( train_ds_features,\r\n",
        "train_ds.sentiment,\r\n",
        "test_size = 0.3,\r\n",
        "random_state = 42 )\r\n",
        "nb_clf = GaussianNB()\r\n",
        "nb_clf.fit( train_X.toarray(), train_y )"
      ],
      "execution_count": 41,
      "outputs": [
        {
          "output_type": "execute_result",
          "data": {
            "text/plain": [
              "GaussianNB(priors=None, var_smoothing=1e-09)"
            ]
          },
          "metadata": {
            "tags": []
          },
          "execution_count": 41
        }
      ]
    },
    {
      "cell_type": "code",
      "metadata": {
        "colab": {
          "base_uri": "https://localhost:8080/"
        },
        "id": "GNC1Y-DFEOiV",
        "outputId": "80d9a90e-1b2a-467d-8776-81bb70a4471c"
      },
      "source": [
        "test_ds_predicted = nb_clf.predict( test_X.toarray() )\r\n",
        "print( metrics.classification_report( test_y, test_ds_predicted ) )"
      ],
      "execution_count": 42,
      "outputs": [
        {
          "output_type": "stream",
          "text": [
            "              precision    recall  f1-score   support\n",
            "\n",
            "           0       0.96      0.96      0.96       873\n",
            "           1       0.97      0.97      0.97      1203\n",
            "\n",
            "    accuracy                           0.97      2076\n",
            "   macro avg       0.97      0.97      0.97      2076\n",
            "weighted avg       0.97      0.97      0.97      2076\n",
            "\n"
          ],
          "name": "stdout"
        }
      ]
    },
    {
      "cell_type": "markdown",
      "metadata": {
        "id": "kY1EFuIVEaNz"
      },
      "source": [
        "##**10.5 Using N-grams**"
      ]
    },
    {
      "cell_type": "code",
      "metadata": {
        "colab": {
          "base_uri": "https://localhost:8080/"
        },
        "id": "e_SB_-YOEVHR",
        "outputId": "4dd88aae-4764-46cd-dabb-490eae7122be"
      },
      "source": [
        "import nltk\r\n",
        "nltk.download('punkt')\r\n",
        "from nltk.stem import PorterStemmer\r\n",
        "# library for regular expressions\r\n",
        "import re\r\n",
        "stemmer = PorterStemmer()\r\n",
        "def get_stemmed_tokens( doc ):\r\n",
        "  # Tokenize the documents to words\r\n",
        "  all_tokens = [word for word in nltk.word_tokenize(doc)]\r\n",
        "  clean_tokens = []\r\n",
        "  # remove the all characters other than alphabets. It takes a regex for matching.\r\n",
        "  for each_token in all_tokens:\r\n",
        "    if re.search('[a-zA-Z]', each_token):\r\n",
        "      clean_tokens.append(each_token)\r\n",
        "  # Stem the words\r\n",
        "  stemmed_tokens = [stemmer.stem(t) for t in clean_tokens]\r\n",
        "  return stemmed_tokens"
      ],
      "execution_count": 50,
      "outputs": [
        {
          "output_type": "stream",
          "text": [
            "[nltk_data] Downloading package punkt to /root/nltk_data...\n",
            "[nltk_data]   Package punkt is already up-to-date!\n"
          ],
          "name": "stdout"
        }
      ]
    },
    {
      "cell_type": "code",
      "metadata": {
        "id": "V3MotFVhEo22"
      },
      "source": [
        "tfidf_vectorizer = TfidfVectorizer(max_features=500,\r\n",
        "                    stop_words='english',\r\n",
        "                    tokenizer=get_stemmed_tokens,\r\n",
        "                    ngram_range=(1,2))\r\n",
        "\r\n",
        "feature_vector = tfidf_vectorizer.fit( train_ds.text )\r\n",
        "train_ds_features = tfidf_vectorizer.transform( train_ds.text )\r\n",
        "features = feature_vector.get_feature_names()"
      ],
      "execution_count": 51,
      "outputs": []
    },
    {
      "cell_type": "markdown",
      "metadata": {
        "id": "ZdkQfOP7Gmdq"
      },
      "source": [
        "###**10.5.1 Build the model using n-grams**"
      ]
    },
    {
      "cell_type": "code",
      "metadata": {
        "colab": {
          "base_uri": "https://localhost:8080/"
        },
        "id": "EugfAwRBFBD7",
        "outputId": "6ac45c33-1c38-41d2-ff6b-fd34362df639"
      },
      "source": [
        "train_X, test_X, train_y, test_y = train_test_split( train_ds_features,\r\n",
        "train_ds.sentiment,\r\n",
        "test_size = 0.3,\r\n",
        "random_state = 42 )\r\n",
        "nb_clf = BernoulliNB()\r\n",
        "nb_clf.fit( train_X.toarray(), train_y )\r\n",
        "test_ds_predicted = nb_clf.predict( test_X.toarray() )\r\n",
        "print( metrics.classification_report( test_y, test_ds_predicted ) )"
      ],
      "execution_count": 52,
      "outputs": [
        {
          "output_type": "stream",
          "text": [
            "              precision    recall  f1-score   support\n",
            "\n",
            "           0       1.00      0.94      0.97       873\n",
            "           1       0.96      1.00      0.98      1203\n",
            "\n",
            "    accuracy                           0.97      2076\n",
            "   macro avg       0.98      0.97      0.97      2076\n",
            "weighted avg       0.97      0.97      0.97      2076\n",
            "\n"
          ],
          "name": "stdout"
        }
      ]
    },
    {
      "cell_type": "code",
      "metadata": {
        "id": "6cwCBr8TGxSt"
      },
      "source": [
        ""
      ],
      "execution_count": null,
      "outputs": []
    }
  ]
}